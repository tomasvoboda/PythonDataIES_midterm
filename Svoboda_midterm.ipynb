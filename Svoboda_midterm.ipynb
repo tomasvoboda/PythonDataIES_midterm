{
 "cells": [
  {
   "attachments": {},
   "cell_type": "markdown",
   "metadata": {},
   "source": [
    "Midterm exam - solution"
   ]
  },
  {
   "cell_type": "code",
   "execution_count": 24,
   "metadata": {},
   "outputs": [],
   "source": [
    "import numpy as np\n",
    "import pandas as pd\n",
    "import matplotlib.pyplot as plt\n",
    "import datetime"
   ]
  },
  {
   "cell_type": "code",
   "execution_count": 26,
   "metadata": {},
   "outputs": [
    {
     "name": "stdout",
     "output_type": "stream",
     "text": [
      "<class 'pandas.core.frame.DataFrame'>\n",
      "RangeIndex: 1259 entries, 0 to 1258\n",
      "Data columns (total 7 columns):\n",
      " #   Column     Non-Null Count  Dtype         \n",
      "---  ------     --------------  -----         \n",
      " 0   Date       1259 non-null   datetime64[ns]\n",
      " 1   High       1259 non-null   float64       \n",
      " 2   Low        1259 non-null   float64       \n",
      " 3   Open       1259 non-null   float64       \n",
      " 4   Close      1259 non-null   float64       \n",
      " 5   Volume     1259 non-null   int64         \n",
      " 6   Adj Close  1259 non-null   float64       \n",
      "dtypes: datetime64[ns](1), float64(5), int64(1)\n",
      "memory usage: 69.0 KB\n"
     ]
    }
   ],
   "source": [
    "# Data import\n",
    "data_DXCM = pd.read_csv(\"D:\\OneDrive - FSV\\IES bc\\Data Proccesing in Python\\Midterm\\DXCM.csv\")\n",
    "data_DXCM['Date'] = pd.to_datetime(data_DXCM['Date'])\n",
    "data_DXCM.info()"
   ]
  },
  {
   "cell_type": "code",
   "execution_count": 27,
   "metadata": {},
   "outputs": [
    {
     "name": "stdout",
     "output_type": "stream",
     "text": [
      "<class 'pandas.core.frame.DataFrame'>\n",
      "RangeIndex: 1258 entries, 0 to 1257\n",
      "Data columns (total 7 columns):\n",
      " #   Column     Non-Null Count  Dtype         \n",
      "---  ------     --------------  -----         \n",
      " 0   Date       1258 non-null   datetime64[ns]\n",
      " 1   High       1258 non-null   float64       \n",
      " 2   Low        1258 non-null   float64       \n",
      " 3   Open       1258 non-null   float64       \n",
      " 4   Close      1258 non-null   float64       \n",
      " 5   Volume     1258 non-null   float64       \n",
      " 6   Adj Close  1258 non-null   float64       \n",
      "dtypes: datetime64[ns](1), float64(6)\n",
      "memory usage: 68.9 KB\n"
     ]
    }
   ],
   "source": [
    "data_TRGP = pd.read_csv(\"D:\\OneDrive - FSV\\IES bc\\Data Proccesing in Python\\Midterm\\TRGP.csv\")\n",
    "data_TRGP['Date'] = pd.to_datetime(data_TRGP['Date'])\n",
    "data_TRGP.info()"
   ]
  },
  {
   "cell_type": "code",
   "execution_count": 30,
   "metadata": {},
   "outputs": [
    {
     "name": "stdout",
     "output_type": "stream",
     "text": [
      "           Date       High        Low       Open      Close     Volume  \\\n",
      "0    2017-11-13  75.830002  73.180000  74.559998  75.589996  5475300.0   \n",
      "1    2017-11-14  76.620003  75.610001  75.650002  76.070000  2867200.0   \n",
      "2    2017-11-15  76.940002  75.750000  76.320000  76.209999  3170300.0   \n",
      "3    2017-11-16  77.739998  75.910004  76.529999  77.260002  2567600.0   \n",
      "4    2017-11-17  78.029999  76.750000  76.830002  77.970001  2258600.0   \n",
      "...         ...        ...        ...        ...        ...        ...   \n",
      "1254 2022-11-07  68.019997  66.029999  67.480003  67.260002  4330600.0   \n",
      "1255 2022-11-08  68.669998  67.070000  67.309998  67.730003  2103700.0   \n",
      "1256 2022-11-09  66.110001  63.619999  65.519997  64.110001  5160700.0   \n",
      "1257 2022-11-10  66.879997  65.290001  65.610001  66.459999  4080200.0   \n",
      "1258 2022-11-11  67.519997  65.580002  66.559998  67.410004  4794100.0   \n",
      "\n",
      "      Adj Close  \n",
      "0     68.071846  \n",
      "1     68.504120  \n",
      "2     68.630180  \n",
      "3     69.575752  \n",
      "4     70.215149  \n",
      "...         ...  \n",
      "1254  67.260002  \n",
      "1255  67.730003  \n",
      "1256  64.110001  \n",
      "1257  66.459999  \n",
      "1258  67.410004  \n",
      "\n",
      "[1259 rows x 7 columns]\n"
     ]
    }
   ],
   "source": [
    "data_TSN = pd.read_csv(\"D:\\OneDrive - FSV\\IES bc\\Data Proccesing in Python\\Midterm\\TSN.csv\")\n",
    "data_TSN['Date'] = pd.to_datetime(data_TSN['Date'])\n",
    "print(data_TSN)\n"
   ]
  },
  {
   "attachments": {},
   "cell_type": "markdown",
   "metadata": {},
   "source": [
    "1) The first company DXCM has all values in Close column equal to the Adj Close column"
   ]
  },
  {
   "cell_type": "code",
   "execution_count": 34,
   "metadata": {},
   "outputs": [
    {
     "name": "stdout",
     "output_type": "stream",
     "text": [
      "1259\n",
      "199\n",
      "180\n"
     ]
    }
   ],
   "source": [
    "print(sum(data_DXCM['Close'] == data_DXCM['Adj Close']))\n",
    "print(sum(data_TRGP['Close'] == data_TRGP['Adj Close']))\n",
    "print(sum(data_TSN['Close'] == data_TSN['Adj Close']))"
   ]
  },
  {
   "attachments": {},
   "cell_type": "markdown",
   "metadata": {},
   "source": [
    "2) Extreme prices"
   ]
  },
  {
   "cell_type": "code",
   "execution_count": 40,
   "metadata": {},
   "outputs": [
    {
     "name": "stdout",
     "output_type": "stream",
     "text": [
      "The highest value of DXCM is 162.81500244140625 and lowest is 12.887499809265137\n",
      "The highest value of TRGP is 80.62999725341797 and lowest is 4.560298919677734\n",
      "The highest value of TSN is 98.60181427001952 and lowest is 42.08345031738281\n"
     ]
    }
   ],
   "source": [
    "# Company DXCM\n",
    "max_DXCM = data_DXCM['Adj Close'].max()\n",
    "min_DXCM = data_DXCM['Adj Close'].min()\n",
    "print(f\"The highest value of DXCM is {max_DXCM} and lowest is {min_DXCM}\")\n",
    "\n",
    "# Company TRPG\n",
    "max_TRGP = data_TRGP['Adj Close'].max()\n",
    "min_TRGP = data_TRGP['Adj Close'].min()\n",
    "print(f\"The highest value of TRGP is {max_TRGP} and lowest is {min_TRGP}\")\n",
    "\n",
    "# Company TSN\n",
    "max_TSN = data_TSN['Adj Close'].max()\n",
    "min_TSN = data_TSN['Adj Close'].min()\n",
    "print(f\"The highest value of TSN is {max_TSN} and lowest is {min_TSN}\")"
   ]
  },
  {
   "attachments": {},
   "cell_type": "markdown",
   "metadata": {},
   "source": [
    "3) Logarithmic returns"
   ]
  },
  {
   "cell_type": "code",
   "execution_count": 47,
   "metadata": {},
   "outputs": [
    {
     "name": "stdout",
     "output_type": "stream",
     "text": [
      "Company DXCM has close value max 5.092614601911142, min 2.556257834543089, mean 4.051409037874992, and median 4.335328011679325\n",
      "Company TRGP has close value max 4.389870754632909, min 1.517388173938726, mean 3.6004067693266606, and median 3.6310249758904183\n",
      "Company TSN has close value max 4.591089661743764, min 3.7396545593024935, mean 4.242576562791685, and median 4.256906921105175\n"
     ]
    }
   ],
   "source": [
    "# COmpany DXCM\n",
    "data_DXCM['log_close'] = data_DXCM['Adj Close'].apply(np.log) \n",
    "log_max_DXCM = data_DXCM['log_close'].max()\n",
    "log_min_DXCM = data_DXCM['log_close'].min()\n",
    "log_mean_DXCM = data_DXCM['log_close'].mean()\n",
    "log_median_DXCM = data_DXCM['log_close'].median()\n",
    "\n",
    "print(f\"Company DXCM has close value max {log_max_DXCM}, min {log_min_DXCM}, mean {log_mean_DXCM}, and median {log_median_DXCM}\")\n",
    "\n",
    "# Company TRGP\n",
    "data_TRGP['log_close'] = data_TRGP['Adj Close'].apply(np.log) \n",
    "log_max_TRGP = data_TRGP['log_close'].max()\n",
    "log_min_TRGP = data_TRGP['log_close'].min()\n",
    "log_mean_TRGP = data_TRGP['log_close'].mean()\n",
    "log_median_TRGP = data_TRGP['log_close'].median()\n",
    "\n",
    "print(f\"Company TRGP has close value max {log_max_TRGP}, min {log_min_TRGP}, mean {log_mean_TRGP}, and median {log_median_TRGP}\")\n",
    "\n",
    "#Company TSN\n",
    "data_TSN['log_close'] = data_TSN['Adj Close'].apply(np.log) \n",
    "log_max_TSN = data_TSN['log_close'].max()\n",
    "log_min_TSN = data_TSN['log_close'].min()\n",
    "log_mean_TSN = data_TSN['log_close'].mean()\n",
    "log_median_TSN = data_TSN['log_close'].median()\n",
    "\n",
    "print(f\"Company TSN has close value max {log_max_TSN}, min {log_min_TSN}, mean {log_mean_TSN}, and median {log_median_TSN}\")\n",
    "\n"
   ]
  },
  {
   "attachments": {},
   "cell_type": "markdown",
   "metadata": {},
   "source": [
    "4) Highest gain and loss"
   ]
  },
  {
   "cell_type": "code",
   "execution_count": 50,
   "metadata": {},
   "outputs": [
    {
     "name": "stdout",
     "output_type": "stream",
     "text": [
      "164.8625030517578\n"
     ]
    }
   ],
   "source": [
    "# Company DXCM\n",
    "max_high_DXCM = data_DXCM['High'].max()\n",
    "date_max_high_DXCM = df.loc[df['x'] == max_x, 'date'].values[0]\n",
    "\n",
    "# Company TRGP\n",
    "\n",
    "\n",
    "# Company TSN"
   ]
  }
 ],
 "metadata": {
  "kernelspec": {
   "display_name": "Python 3",
   "language": "python",
   "name": "python3"
  },
  "language_info": {
   "codemirror_mode": {
    "name": "ipython",
    "version": 3
   },
   "file_extension": ".py",
   "mimetype": "text/x-python",
   "name": "python",
   "nbconvert_exporter": "python",
   "pygments_lexer": "ipython3",
   "version": "3.11.2"
  },
  "orig_nbformat": 4
 },
 "nbformat": 4,
 "nbformat_minor": 2
}
